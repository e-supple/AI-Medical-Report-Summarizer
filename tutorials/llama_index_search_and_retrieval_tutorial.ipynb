{
  "cells": [
    {
      "cell_type": "markdown",
      "metadata": {
        "id": "0PgoQi1tbxQG"
      },
      "source": [
        "<center>\n",
        "    <p style=\"text-align:center\">\n",
        "        <img alt=\"arize llama-index logos\" src=\"https://storage.googleapis.com/arize-phoenix-assets/assets/docs/notebooks/llama-index-knowledge-base-tutorial/arize_llamaindex.png\" width=\"400\">\n",
        "        <br>\n",
        "        <a href=\"https://docs.arize.com/phoenix/\">Docs</a>\n",
        "        |\n",
        "        <a href=\"https://github.com/Arize-ai/phoenix\">GitHub</a>\n",
        "        |\n",
        "        <a href=\"https://join.slack.com/t/arize-ai/shared_invite/zt-1px8dcmlf-fmThhDFD_V_48oU7ALan4Q\">Community</a>\n",
        "    </p>\n",
        "</center>\n",
        "<h1 align=\"center\">Evaluating and Improving a LlamaIndex Search and Retrieval Application</h1>\n",
        "\n",
        "Imagine you're an engineer at Arize AI and you've built and deployed a documentation question-answering service using LlamaIndex. Users send questions about Arize's core product via a chat interface, and your service retrieves documents from your documentation in order to generate a response to the user. As the engineer in charge of evaluating and maintaining this system, you want to evaluate the quality of the responses from your service.\n",
        "\n",
        "Phoenix helps you:\n",
        "- identify gaps in your documentation\n",
        "- detect queries for which the LLM gave bad responses\n",
        "- detect failures to retrieve relevant context\n",
        "\n",
        "In this tutorial, you will:\n",
        "\n",
        "- Download an pre-indexed knowledge base of the Arize documentation and run a LlamaIndex application\n",
        "- Visualize user queries and knowledge base documents to identify areas of user interest not answered by your documentation\n",
        "- Find clusters of responses with negative user feedback\n",
        "- Identify failed retrievals using cosine similarity, Euclidean distance, and LLM-assisted ranking metrics\n",
        "\n",
        "Parts of this notebook require an [OpenAI API key](https://platform.openai.com/account/api-keys) to run. If you don't have an OpenAI key, you can still run Phoenix by skipping cells preceded by the 💭 emoji.\n",
        "\n",
        "\n",
        "## Chatbot Architecture\n",
        "\n",
        "Your chatbot was built using LlamaIndex's low-level API. The architecture of your chatbot is shown below and can be explained in five steps.\n",
        "\n",
        "![llama-index chatbot architecture](http://storage.googleapis.com/arize-phoenix-assets/assets/docs/notebooks/llama-index-knowledge-base-tutorial/llama_index_chatbot_architecture.png)\n",
        "\n",
        "1. The user sends a query about Arize to your service.\n",
        "1. `langchain.embeddings.OpenAIEmbeddings` makes a request to the OpenAI embeddings API to embed the user query using the `text-embedding-ada-002` model.\n",
        "1. `llama_index.retrievers.RetrieverQueryEngine` does a similarity search against the entries of your index knowledge base for the two most similar pieces of context by cosine similarity.\n",
        "1. `llama_index.indices.query.ResponseSynthesizer` generates a response by formatting the query and retrieved context into a single prompt and sending a request to OpenAI chat completions API with the `gpt-3.5-turbo`.\n",
        "2. The response is returned to the user.\n",
        "\n",
        "Phoenix makes your search and retrieval system *observable* by capturing the inputs and outputs of these steps for analysis, including:\n",
        "\n",
        "- your query embeddings\n",
        "- the retrieved context and similarity scores for each query\n",
        "- the generated response that is return to the user\n",
        "\n",
        "With that overview in mind, let's dive into the notebook."
      ]
    },
    {
      "cell_type": "markdown",
      "metadata": {
        "id": "WDCiFS9QbxQP"
      },
      "source": [
        "## 1. Install Dependencies and Import Libraries"
      ]
    },
    {
      "cell_type": "markdown",
      "metadata": {
        "id": "tDdZNaXWbxQS"
      },
      "source": []
    },
    {
      "cell_type": "markdown",
      "metadata": {
        "id": "DI6BkQvPbxQS"
      },
      "source": [
        "Install Phoenix and LlamaIndex."
      ]
    },
    {
      "cell_type": "code",
      "execution_count": 1,
      "metadata": {
        "id": "yXDX2VIBbxQU",
        "outputId": "b26a6196-899d-4f5d-8fb7-54b3340a023f",
        "colab": {
          "base_uri": "https://localhost:8080/"
        }
      },
      "outputs": [
        {
          "output_type": "stream",
          "name": "stdout",
          "text": [
            "\u001b[2K   \u001b[90m━━━━━━━━━━━━━━━━━━━━━━━━━━━━━━━━━━━━━━━━\u001b[0m \u001b[32m661.3/661.3 kB\u001b[0m \u001b[31m11.2 MB/s\u001b[0m eta \u001b[36m0:00:00\u001b[0m\n",
            "\u001b[2K   \u001b[90m━━━━━━━━━━━━━━━━━━━━━━━━━━━━━━━━━━━━━━━━\u001b[0m \u001b[32m15.9/15.9 MB\u001b[0m \u001b[31m39.0 MB/s\u001b[0m eta \u001b[36m0:00:00\u001b[0m\n",
            "\u001b[2K   \u001b[90m━━━━━━━━━━━━━━━━━━━━━━━━━━━━━━━━━━━━━━━━\u001b[0m \u001b[32m76.4/76.4 kB\u001b[0m \u001b[31m4.8 MB/s\u001b[0m eta \u001b[36m0:00:00\u001b[0m\n",
            "\u001b[2K   \u001b[90m━━━━━━━━━━━━━━━━━━━━━━━━━━━━━━━━━━━━━━━━\u001b[0m \u001b[32m231.9/231.9 kB\u001b[0m \u001b[31m13.7 MB/s\u001b[0m eta \u001b[36m0:00:00\u001b[0m\n",
            "\u001b[2K   \u001b[90m━━━━━━━━━━━━━━━━━━━━━━━━━━━━━━━━━━━━━━━━\u001b[0m \u001b[32m62.9/62.9 kB\u001b[0m \u001b[31m3.4 MB/s\u001b[0m eta \u001b[36m0:00:00\u001b[0m\n",
            "\u001b[2K   \u001b[90m━━━━━━━━━━━━━━━━━━━━━━━━━━━━━━━━━━━━━━━━\u001b[0m \u001b[32m55.9/55.9 kB\u001b[0m \u001b[31m2.9 MB/s\u001b[0m eta \u001b[36m0:00:00\u001b[0m\n",
            "\u001b[2K   \u001b[90m━━━━━━━━━━━━━━━━━━━━━━━━━━━━━━━━━━━━━━━━\u001b[0m \u001b[32m3.0/3.0 MB\u001b[0m \u001b[31m48.0 MB/s\u001b[0m eta \u001b[36m0:00:00\u001b[0m\n",
            "\u001b[2K   \u001b[90m━━━━━━━━━━━━━━━━━━━━━━━━━━━━━━━━━━━━━━━━\u001b[0m \u001b[32m72.0/72.0 kB\u001b[0m \u001b[31m4.4 MB/s\u001b[0m eta \u001b[36m0:00:00\u001b[0m\n",
            "\u001b[2K   \u001b[90m━━━━━━━━━━━━━━━━━━━━━━━━━━━━━━━━━━━━━━━━\u001b[0m \u001b[32m296.9/296.9 kB\u001b[0m \u001b[31m16.1 MB/s\u001b[0m eta \u001b[36m0:00:00\u001b[0m\n",
            "\u001b[2K   \u001b[90m━━━━━━━━━━━━━━━━━━━━━━━━━━━━━━━━━━━━━━━━\u001b[0m \u001b[32m1.2/1.2 MB\u001b[0m \u001b[31m32.7 MB/s\u001b[0m eta \u001b[36m0:00:00\u001b[0m\n",
            "\u001b[2K   \u001b[90m━━━━━━━━━━━━━━━━━━━━━━━━━━━━━━━━━━━━━━━━\u001b[0m \u001b[32m3.8/3.8 MB\u001b[0m \u001b[31m41.8 MB/s\u001b[0m eta \u001b[36m0:00:00\u001b[0m\n",
            "\u001b[2K   \u001b[90m━━━━━━━━━━━━━━━━━━━━━━━━━━━━━━━━━━━━━━━━\u001b[0m \u001b[32m232.1/232.1 kB\u001b[0m \u001b[31m12.8 MB/s\u001b[0m eta \u001b[36m0:00:00\u001b[0m\n",
            "\u001b[2K   \u001b[90m━━━━━━━━━━━━━━━━━━━━━━━━━━━━━━━━━━━━━━━━\u001b[0m \u001b[32m95.2/95.2 kB\u001b[0m \u001b[31m5.1 MB/s\u001b[0m eta \u001b[36m0:00:00\u001b[0m\n",
            "\u001b[2K   \u001b[90m━━━━━━━━━━━━━━━━━━━━━━━━━━━━━━━━━━━━━━━━\u001b[0m \u001b[32m119.0/119.0 kB\u001b[0m \u001b[31m7.5 MB/s\u001b[0m eta \u001b[36m0:00:00\u001b[0m\n",
            "\u001b[2K   \u001b[90m━━━━━━━━━━━━━━━━━━━━━━━━━━━━━━━━━━━━━━━━\u001b[0m \u001b[32m188.4/188.4 kB\u001b[0m \u001b[31m10.5 MB/s\u001b[0m eta \u001b[36m0:00:00\u001b[0m\n",
            "\u001b[2K   \u001b[90m━━━━━━━━━━━━━━━━━━━━━━━━━━━━━━━━━━━━━━━━\u001b[0m \u001b[32m65.3/65.3 kB\u001b[0m \u001b[31m4.0 MB/s\u001b[0m eta \u001b[36m0:00:00\u001b[0m\n",
            "\u001b[2K   \u001b[90m━━━━━━━━━━━━━━━━━━━━━━━━━━━━━━━━━━━━━━━━\u001b[0m \u001b[32m62.5/62.5 kB\u001b[0m \u001b[31m3.5 MB/s\u001b[0m eta \u001b[36m0:00:00\u001b[0m\n",
            "\u001b[2K   \u001b[90m━━━━━━━━━━━━━━━━━━━━━━━━━━━━━━━━━━━━━━━━\u001b[0m \u001b[32m313.6/313.6 kB\u001b[0m \u001b[31m15.6 MB/s\u001b[0m eta \u001b[36m0:00:00\u001b[0m\n",
            "\u001b[2K   \u001b[90m━━━━━━━━━━━━━━━━━━━━━━━━━━━━━━━━━━━━━━━━\u001b[0m \u001b[32m203.4/203.4 kB\u001b[0m \u001b[31m10.4 MB/s\u001b[0m eta \u001b[36m0:00:00\u001b[0m\n",
            "\u001b[2K   \u001b[90m━━━━━━━━━━━━━━━━━━━━━━━━━━━━━━━━━━━━━━━━\u001b[0m \u001b[32m50.9/50.9 kB\u001b[0m \u001b[31m2.4 MB/s\u001b[0m eta \u001b[36m0:00:00\u001b[0m\n",
            "\u001b[?25h\u001b[31mERROR: pip's dependency resolver does not currently take into account all the packages that are installed. This behaviour is the source of the following dependency conflicts.\n",
            "google-genai 1.12.1 requires httpx<1.0.0,>=0.28.1, but you have httpx 0.27.2 which is incompatible.\u001b[0m\u001b[31m\n",
            "\u001b[0m"
          ]
        }
      ],
      "source": [
        "%pip install -Uq \"arize-phoenix[evals,embeddings]\" \"openai>=1\" \"llama-index<0.10.0\" gcsfs 'httpx<0.28'"
      ]
    },
    {
      "cell_type": "markdown",
      "metadata": {
        "id": "3Gt-l-mPbxQW"
      },
      "source": [
        "Import libraries."
      ]
    },
    {
      "cell_type": "code",
      "execution_count": 3,
      "metadata": {
        "id": "xeAzLvtebxQX"
      },
      "outputs": [],
      "source": [
        "import os\n",
        "import textwrap\n",
        "from datetime import timedelta\n",
        "from getpass import getpass\n",
        "\n",
        "import numpy as np\n",
        "import pandas as pd\n",
        "from gcsfs import GCSFileSystem\n",
        "from IPython.display import YouTubeVideo\n",
        "from llama_index import (\n",
        "    ServiceContext,\n",
        "    StorageContext,\n",
        "    load_index_from_storage,\n",
        ")\n",
        "from llama_index.callbacks import CallbackManager, OpenInferenceCallbackHandler\n",
        "from llama_index.callbacks.open_inference_callback import as_dataframe\n",
        "from llama_index.embeddings.openai import OpenAIEmbedding\n",
        "from llama_index.graph_stores.simple import SimpleGraphStore\n",
        "from llama_index.llms import OpenAI\n",
        "\n",
        "import phoenix as px\n",
        "from phoenix.evals.retrievals import (\n",
        "    classify_relevance,\n",
        "    compute_precisions_at_k,\n",
        ")\n",
        "\n",
        "pd.set_option(\"display.max_colwidth\", 1000)"
      ]
    },
    {
      "cell_type": "markdown",
      "metadata": {
        "id": "t8mUy0AzbxQf"
      },
      "source": [
        "## 2. Configure Your OpenAI API Key"
      ]
    },
    {
      "cell_type": "markdown",
      "metadata": {
        "id": "0p2bI3pobxQk"
      },
      "source": [
        "💭 Configure your OpenAI API key."
      ]
    },
    {
      "cell_type": "code",
      "execution_count": 4,
      "metadata": {
        "id": "wwDbnqUfbxQn",
        "outputId": "d24370ef-535b-45f8-8b8e-d168721b6703",
        "colab": {
          "base_uri": "https://localhost:8080/"
        }
      },
      "outputs": [
        {
          "name": "stdout",
          "output_type": "stream",
          "text": [
            "🔑 Enter your OpenAI API key: ··········\n"
          ]
        }
      ],
      "source": [
        "if not (openai_api_key := os.getenv(\"OPENAI_API_KEY\")):\n",
        "    openai_api_key = getpass(\"🔑 Enter your OpenAI API key: \")\n",
        "    os.environ[\"OPENAI_API_KEY\"] = openai_api_key"
      ]
    },
    {
      "cell_type": "markdown",
      "metadata": {
        "id": "03tWLYbtbxQp"
      },
      "source": [
        "## 3. Download Your Knowledge Base"
      ]
    },
    {
      "cell_type": "markdown",
      "metadata": {
        "id": "nuYzdOBjbxQq"
      },
      "source": [
        "Download your pre-built index from cloud storage and instantiate your storage context."
      ]
    },
    {
      "cell_type": "code",
      "execution_count": 5,
      "metadata": {
        "id": "DoHfxc3AbxQr"
      },
      "outputs": [],
      "source": [
        "file_system = GCSFileSystem(project=\"public-assets-275721\")\n",
        "index_path = \"arize-phoenix-assets/datasets/unstructured/llm/llama-index/arize-docs/index/\"\n",
        "storage_context = StorageContext.from_defaults(\n",
        "    fs=file_system,\n",
        "    persist_dir=index_path,\n",
        "    graph_store=SimpleGraphStore(),  # prevents unauthorized request to GCS\n",
        ")"
      ]
    },
    {
      "cell_type": "markdown",
      "metadata": {
        "id": "dAGeUadsbxQs"
      },
      "source": [
        "Download and unzip a pre-built knowledge base index consisting of chunks of the Arize documentation."
      ]
    },
    {
      "cell_type": "markdown",
      "metadata": {
        "id": "XnXfqT9JbxQs"
      },
      "source": [
        "## 4. Run Your Question-Answering Service\n",
        "\n",
        "💭 Start a LlamaIndex application from your downloaded index. Use the `OpenInferenceCallbackHandler` to store your data in [OpenInference format](https://github.com/Arize-ai/openinference), an open standard for capturing and storing AI model inferences that enables production LLMapp servers to seamlessly integrate with LLM observability solutions such as Arize and Phoenix."
      ]
    },
    {
      "cell_type": "code",
      "execution_count": 6,
      "metadata": {
        "id": "HgoXRpGzbxQt"
      },
      "outputs": [],
      "source": [
        "callback_handler = OpenInferenceCallbackHandler()\n",
        "service_context = ServiceContext.from_defaults(\n",
        "    llm=OpenAI(model_name=\"gpt-3.5-turbo\", temperature=0),\n",
        "    embed_model=OpenAIEmbedding(model=\"text-embedding-ada-002\"),\n",
        "    callback_manager=CallbackManager(handlers=[callback_handler]),\n",
        ")\n",
        "index = load_index_from_storage(\n",
        "    storage_context,\n",
        "    service_context=service_context,\n",
        ")\n",
        "query_engine = index.as_query_engine()"
      ]
    },
    {
      "cell_type": "markdown",
      "metadata": {
        "id": "M96DPd6mbxQu"
      },
      "source": [
        "💭 Ask a few questions of your question-answering service and view the responses."
      ]
    },
    {
      "cell_type": "code",
      "execution_count": 7,
      "metadata": {
        "id": "sRALBvqEbxQv",
        "outputId": "8335e982-0bc6-43b8-e2ec-af9c929b522d",
        "colab": {
          "base_uri": "https://localhost:8080/"
        }
      },
      "outputs": [
        {
          "output_type": "stream",
          "name": "stdout",
          "text": [
            "Query\n",
            "=====\n",
            "\n",
            "How do I get an Arize API key?\n",
            "\n",
            "Response\n",
            "========\n",
            "\n",
            "Click the 'Get Your API Key' button on the top right of the Explorer page to\n",
            "generate your API key.\n",
            "\n",
            "Query\n",
            "=====\n",
            "\n",
            "Can I create monitors with an API?\n",
            "\n",
            "Response\n",
            "========\n",
            "\n",
            "Yes, you can create monitors using the public-facing graphQL API provided.\n",
            "\n",
            "Query\n",
            "=====\n",
            "\n",
            "How do I need to format timestamps?\n",
            "\n",
            "Response\n",
            "========\n",
            "\n",
            "You need to format timestamps as an integer representing the UNIX Timestamp in\n",
            "seconds.\n",
            "\n",
            "Query\n",
            "=====\n",
            "\n",
            "What is the price of the Arize platform\n",
            "\n",
            "Response\n",
            "========\n",
            "\n",
            "The price of the Arize platform is not specified in the provided context\n",
            "information. For detailed pricing information, it is recommended to reach out to\n",
            "the sales team at contacts@arize.com.\n",
            "\n"
          ]
        }
      ],
      "source": [
        "max_line_length = 80\n",
        "for query in [\n",
        "    \"How do I get an Arize API key?\",\n",
        "    \"Can I create monitors with an API?\",\n",
        "    \"How do I need to format timestamps?\",\n",
        "    \"What is the price of the Arize platform\",\n",
        "]:\n",
        "    print(\"Query\")\n",
        "    print(\"=====\")\n",
        "    print()\n",
        "    print(textwrap.fill(query, max_line_length))\n",
        "    print()\n",
        "    response = query_engine.query(query)\n",
        "    print(\"Response\")\n",
        "    print(\"========\")\n",
        "    print()\n",
        "    print(textwrap.fill(str(response), max_line_length))\n",
        "    print()"
      ]
    },
    {
      "cell_type": "markdown",
      "metadata": {
        "id": "H8_hV9iBbxQv"
      },
      "source": [
        "## 5. Load Your Data Into Pandas Dataframes"
      ]
    },
    {
      "cell_type": "markdown",
      "metadata": {
        "id": "2Xjsr29xbxQx"
      },
      "source": [
        "To use Phoenix, you must load your data into pandas dataframes."
      ]
    },
    {
      "cell_type": "markdown",
      "metadata": {
        "id": "6hO8hl4NbxQx"
      },
      "source": [
        "💭 Your query data is saved in a buffer on the callback handler you defined in step 4. Load the data from the buffer into a dataframe."
      ]
    },
    {
      "cell_type": "code",
      "execution_count": 8,
      "metadata": {
        "id": "97YjsBNrbxQx",
        "outputId": "351c992b-dfe3-41d7-f308-8ccf8a4485c5",
        "colab": {
          "base_uri": "https://localhost:8080/",
          "height": 1000
        }
      },
      "outputs": [
        {
          "output_type": "execute_result",
          "data": {
            "text/plain": [
              "                                :id.id:        :timestamp.iso_8601:  \\\n",
              "0  deea6441-049d-4cea-8be0-d0fd0610f5a5  2025-05-01T20:20:37.037957   \n",
              "1  64a87ce8-cb52-4b49-b407-36daa5cf87bd  2025-05-01T20:20:39.317035   \n",
              "2  d06c6ae7-5605-4b17-92dc-9b3ba34c0582  2025-05-01T20:20:40.538349   \n",
              "3  473dd8bf-c94e-455b-8f3e-e0cd84ebc672  2025-05-01T20:20:41.354550   \n",
              "\n",
              "                      :feature.text:prompt  \\\n",
              "0           How do I get an Arize API key?   \n",
              "1       Can I create monitors with an API?   \n",
              "2      How do I need to format timestamps?   \n",
              "3  What is the price of the Arize platform   \n",
              "\n",
              "                                                                                                                                                                                                                                                                                                                                                                                                                                                                                                                                                                                                                                                                                                                                                                                                                                                                                                                                                                                                         :feature.[float].embedding:prompt  \\\n",
              "0  [0.007313841488212347, -0.010544062592089176, -0.022766713052988052, -0.024797942489385605, -0.014768741093575954, 0.02588408812880516, 0.005769259762018919, 0.0013541538501158357, -0.014098716899752617, -0.03303571417927742, 0.018972260877490044, -0.007483110763132572, -0.0008181346347555518, 0.0028899195604026318, -0.02560197189450264, 0.01569972187280655, 0.016010047867894173, 0.007440793327987194, 0.0341077521443367, -0.007074043620377779, -0.02080601081252098, 0.0012421893188729882, 0.015008538961410522, -0.010875548236072063, -0.014352620579302311, 0.013351110741496086, -0.0021952104289084673, 0.004422158934175968, 0.003653394291177392, -0.028084587305784225, 0.03125838562846184, 0.022258903831243515, -0.0008401749073527753, -0.003401253605261445, -0.03306392580270767, 0.0050146011635661125, 0.019762182608246803, 0.01008562557399273, 0.006079586688429117, -0.0010050360579043627, 0.02117276005446911, -0.01826697215437889, 0.013153630308806896, -0.012236755341291428, -0.0072715...   \n",
              "1  [-0.006982418708503246, -0.0234614796936512, 0.0004936801851727068, -0.02667083404958248, -0.0032525828573852777, 0.009475892409682274, -0.022327139973640442, -0.004077400546520948, -0.0024865572340786457, -0.012775163166224957, 0.011709989979863167, 0.005720118992030621, 0.005429617594927549, 0.008085633628070354, -0.023115644231438637, 0.016019100323319435, 0.021953638643026352, 0.016295768320560455, 0.014787926338613033, -0.02207813784480095, -0.012539994902908802, 0.009302974678575993, 0.004921239335089922, 0.003569022286683321, -0.026795335114002228, 0.01084540132433176, 0.0001152064505731687, -0.015604098327457905, -0.029382184147834778, -0.00267849606461823, 0.04374127462506294, -0.00503190653398633, -0.014677259139716625, -0.02263147570192814, -0.014787926338613033, 0.0006946970825083554, 0.021483302116394043, 0.025149157270789146, 0.013446084223687649, 0.004108525812625885, 0.02253464050590992, 0.015451930463314056, 0.016932105645537376, -0.006083246320486069, 0.0011862157...   \n",
              "2  [-0.015807045623660088, 0.008870591409504414, -0.005659785121679306, -0.043051935732364655, -0.0045883567072451115, -0.009726341813802719, -0.003464748617261648, -0.015111313201487064, -0.015987936407327652, -0.008599255234003067, 0.015278289094567299, 0.01618274115025997, -0.01417207345366478, -0.005743273068219423, -0.01817253604531288, 0.0019880561158061028, 0.009914190508425236, 0.013608530163764954, 0.024350643157958984, -0.021915577352046967, -0.026256950572133064, 0.01469387300312519, 0.009754171594977379, -0.006964283529669046, 0.0074443393386900425, -0.0009044524049386382, -0.0019097861368209124, -0.006226806901395321, -0.0016288839979097247, -0.0038439228665083647, 0.013858994469046593, -0.010797770693898201, -0.001970662735402584, -0.02913728356361389, -0.017908157780766487, -0.011458716355264187, -0.010456861928105354, -0.01375463418662548, 0.02259739674627781, -8.89776783878915e-05, -0.0010696889366954565, -0.008668828755617142, 0.003543018363416195, -0.010950831696391...   \n",
              "3  [0.012752944603562355, -0.01932699792087078, -0.020433450117707253, -0.009692237712442875, 0.00608548941090703, 0.014240188524127007, -0.018507935106754303, -0.024514392018318176, -0.01225001085549593, -0.013241508044302464, -0.00122051069047302, 0.004763494245707989, -0.017904415726661682, -0.025922603905200958, -0.0036516529507935047, 0.01348578929901123, 0.013069073669612408, 0.018665999174118042, -0.0005545734311453998, 0.01629502885043621, -0.032417625188827515, -0.01559092290699482, -0.0010435859439894557, -0.0002954731462523341, -0.007235050667077303, 0.03345223143696785, 0.010611886158585548, -0.002776908688247204, 0.016007639467716217, -0.007443408481776714, 0.025548996403813362, 0.014211449772119522, 0.004943112842738628, 0.0016821313183754683, -0.050379518419504166, -0.004591059871017933, 0.005650811363011599, 0.03908507898449898, 0.00911027193069458, -0.006498612929135561, 0.03284871205687523, -0.015346641652286053, 0.01209194678813219, 0.014649719931185246, -0.03333727...   \n",
              "\n",
              "                                                                                                                                                                                    :prediction.text:response  \\\n",
              "0                                                                                              assistant: Click the 'Get Your API Key' button on the top right of the Explorer page to generate your API key.   \n",
              "1                                                                                                                       assistant: Yes, you can create monitors using the public-facing graphQL API provided.   \n",
              "2                                                                                                          assistant: You need to format timestamps as an integer representing the UNIX Timestamp in seconds.   \n",
              "3  assistant: The price of the Arize platform is not specified in the provided context information. For detailed pricing information, it is recommended to reach out to the sales team at contacts@arize.com.   \n",
              "\n",
              "                                                                                           :feature.[str].retrieved_document_ids:prompt  \\\n",
              "0  [7f0e9f73fc9208f158db2bbb815ef2281b59411c9678608cfe429e5c5bfec217, 5d9c75f5fa537e3fdb16c9c0cd4b14aa65c556f1775102240710cd7a74e7f197]   \n",
              "1  [7ca1fc69a37f7f6f2589a000dd41fd455489547309b40bd5ec005acc6e242f96, a4fe23175b4179e6f83bb71ee248fd1c66f7146ba22b53786536e6de6ffefc39]   \n",
              "2  [af0972abe33e4a6c898f4247896a6f5b00fe1cc4ea08c1df6a4732325b644d9b, 6ef76f60a6acef3fc5129546f62a84b68273adcf3a1aab94df27527db1876d09]   \n",
              "3  [587fe42cdcf624a7bfc74f89ce855b3734de1e9725b3e72dcbcd863925bf066e, d455bf32a3323788dc40e0bfdb5f3fc2343e43a77e1b526711ec0d8f95733e1f]   \n",
              "\n",
              "  :feature.[float].retrieved_document_scores:prompt  \n",
              "0          [0.8830837164630378, 0.8669015303926858]  \n",
              "1          [0.8425179464267444, 0.8219968931201883]  \n",
              "2          [0.8112116142425522, 0.8039857086592772]  \n",
              "3           [0.8558807200306074, 0.843906991596906]  "
            ],
            "text/html": [
              "\n",
              "  <div id=\"df-f27feae2-ebc6-4e9f-b074-42ba83c5e967\" class=\"colab-df-container\">\n",
              "    <div>\n",
              "<style scoped>\n",
              "    .dataframe tbody tr th:only-of-type {\n",
              "        vertical-align: middle;\n",
              "    }\n",
              "\n",
              "    .dataframe tbody tr th {\n",
              "        vertical-align: top;\n",
              "    }\n",
              "\n",
              "    .dataframe thead th {\n",
              "        text-align: right;\n",
              "    }\n",
              "</style>\n",
              "<table border=\"1\" class=\"dataframe\">\n",
              "  <thead>\n",
              "    <tr style=\"text-align: right;\">\n",
              "      <th></th>\n",
              "      <th>:id.id:</th>\n",
              "      <th>:timestamp.iso_8601:</th>\n",
              "      <th>:feature.text:prompt</th>\n",
              "      <th>:feature.[float].embedding:prompt</th>\n",
              "      <th>:prediction.text:response</th>\n",
              "      <th>:feature.[str].retrieved_document_ids:prompt</th>\n",
              "      <th>:feature.[float].retrieved_document_scores:prompt</th>\n",
              "    </tr>\n",
              "  </thead>\n",
              "  <tbody>\n",
              "    <tr>\n",
              "      <th>0</th>\n",
              "      <td>deea6441-049d-4cea-8be0-d0fd0610f5a5</td>\n",
              "      <td>2025-05-01T20:20:37.037957</td>\n",
              "      <td>How do I get an Arize API key?</td>\n",
              "      <td>[0.007313841488212347, -0.010544062592089176, -0.022766713052988052, -0.024797942489385605, -0.014768741093575954, 0.02588408812880516, 0.005769259762018919, 0.0013541538501158357, -0.014098716899752617, -0.03303571417927742, 0.018972260877490044, -0.007483110763132572, -0.0008181346347555518, 0.0028899195604026318, -0.02560197189450264, 0.01569972187280655, 0.016010047867894173, 0.007440793327987194, 0.0341077521443367, -0.007074043620377779, -0.02080601081252098, 0.0012421893188729882, 0.015008538961410522, -0.010875548236072063, -0.014352620579302311, 0.013351110741496086, -0.0021952104289084673, 0.004422158934175968, 0.003653394291177392, -0.028084587305784225, 0.03125838562846184, 0.022258903831243515, -0.0008401749073527753, -0.003401253605261445, -0.03306392580270767, 0.0050146011635661125, 0.019762182608246803, 0.01008562557399273, 0.006079586688429117, -0.0010050360579043627, 0.02117276005446911, -0.01826697215437889, 0.013153630308806896, -0.012236755341291428, -0.0072715...</td>\n",
              "      <td>assistant: Click the 'Get Your API Key' button on the top right of the Explorer page to generate your API key.</td>\n",
              "      <td>[7f0e9f73fc9208f158db2bbb815ef2281b59411c9678608cfe429e5c5bfec217, 5d9c75f5fa537e3fdb16c9c0cd4b14aa65c556f1775102240710cd7a74e7f197]</td>\n",
              "      <td>[0.8830837164630378, 0.8669015303926858]</td>\n",
              "    </tr>\n",
              "    <tr>\n",
              "      <th>1</th>\n",
              "      <td>64a87ce8-cb52-4b49-b407-36daa5cf87bd</td>\n",
              "      <td>2025-05-01T20:20:39.317035</td>\n",
              "      <td>Can I create monitors with an API?</td>\n",
              "      <td>[-0.006982418708503246, -0.0234614796936512, 0.0004936801851727068, -0.02667083404958248, -0.0032525828573852777, 0.009475892409682274, -0.022327139973640442, -0.004077400546520948, -0.0024865572340786457, -0.012775163166224957, 0.011709989979863167, 0.005720118992030621, 0.005429617594927549, 0.008085633628070354, -0.023115644231438637, 0.016019100323319435, 0.021953638643026352, 0.016295768320560455, 0.014787926338613033, -0.02207813784480095, -0.012539994902908802, 0.009302974678575993, 0.004921239335089922, 0.003569022286683321, -0.026795335114002228, 0.01084540132433176, 0.0001152064505731687, -0.015604098327457905, -0.029382184147834778, -0.00267849606461823, 0.04374127462506294, -0.00503190653398633, -0.014677259139716625, -0.02263147570192814, -0.014787926338613033, 0.0006946970825083554, 0.021483302116394043, 0.025149157270789146, 0.013446084223687649, 0.004108525812625885, 0.02253464050590992, 0.015451930463314056, 0.016932105645537376, -0.006083246320486069, 0.0011862157...</td>\n",
              "      <td>assistant: Yes, you can create monitors using the public-facing graphQL API provided.</td>\n",
              "      <td>[7ca1fc69a37f7f6f2589a000dd41fd455489547309b40bd5ec005acc6e242f96, a4fe23175b4179e6f83bb71ee248fd1c66f7146ba22b53786536e6de6ffefc39]</td>\n",
              "      <td>[0.8425179464267444, 0.8219968931201883]</td>\n",
              "    </tr>\n",
              "    <tr>\n",
              "      <th>2</th>\n",
              "      <td>d06c6ae7-5605-4b17-92dc-9b3ba34c0582</td>\n",
              "      <td>2025-05-01T20:20:40.538349</td>\n",
              "      <td>How do I need to format timestamps?</td>\n",
              "      <td>[-0.015807045623660088, 0.008870591409504414, -0.005659785121679306, -0.043051935732364655, -0.0045883567072451115, -0.009726341813802719, -0.003464748617261648, -0.015111313201487064, -0.015987936407327652, -0.008599255234003067, 0.015278289094567299, 0.01618274115025997, -0.01417207345366478, -0.005743273068219423, -0.01817253604531288, 0.0019880561158061028, 0.009914190508425236, 0.013608530163764954, 0.024350643157958984, -0.021915577352046967, -0.026256950572133064, 0.01469387300312519, 0.009754171594977379, -0.006964283529669046, 0.0074443393386900425, -0.0009044524049386382, -0.0019097861368209124, -0.006226806901395321, -0.0016288839979097247, -0.0038439228665083647, 0.013858994469046593, -0.010797770693898201, -0.001970662735402584, -0.02913728356361389, -0.017908157780766487, -0.011458716355264187, -0.010456861928105354, -0.01375463418662548, 0.02259739674627781, -8.89776783878915e-05, -0.0010696889366954565, -0.008668828755617142, 0.003543018363416195, -0.010950831696391...</td>\n",
              "      <td>assistant: You need to format timestamps as an integer representing the UNIX Timestamp in seconds.</td>\n",
              "      <td>[af0972abe33e4a6c898f4247896a6f5b00fe1cc4ea08c1df6a4732325b644d9b, 6ef76f60a6acef3fc5129546f62a84b68273adcf3a1aab94df27527db1876d09]</td>\n",
              "      <td>[0.8112116142425522, 0.8039857086592772]</td>\n",
              "    </tr>\n",
              "    <tr>\n",
              "      <th>3</th>\n",
              "      <td>473dd8bf-c94e-455b-8f3e-e0cd84ebc672</td>\n",
              "      <td>2025-05-01T20:20:41.354550</td>\n",
              "      <td>What is the price of the Arize platform</td>\n",
              "      <td>[0.012752944603562355, -0.01932699792087078, -0.020433450117707253, -0.009692237712442875, 0.00608548941090703, 0.014240188524127007, -0.018507935106754303, -0.024514392018318176, -0.01225001085549593, -0.013241508044302464, -0.00122051069047302, 0.004763494245707989, -0.017904415726661682, -0.025922603905200958, -0.0036516529507935047, 0.01348578929901123, 0.013069073669612408, 0.018665999174118042, -0.0005545734311453998, 0.01629502885043621, -0.032417625188827515, -0.01559092290699482, -0.0010435859439894557, -0.0002954731462523341, -0.007235050667077303, 0.03345223143696785, 0.010611886158585548, -0.002776908688247204, 0.016007639467716217, -0.007443408481776714, 0.025548996403813362, 0.014211449772119522, 0.004943112842738628, 0.0016821313183754683, -0.050379518419504166, -0.004591059871017933, 0.005650811363011599, 0.03908507898449898, 0.00911027193069458, -0.006498612929135561, 0.03284871205687523, -0.015346641652286053, 0.01209194678813219, 0.014649719931185246, -0.03333727...</td>\n",
              "      <td>assistant: The price of the Arize platform is not specified in the provided context information. For detailed pricing information, it is recommended to reach out to the sales team at contacts@arize.com.</td>\n",
              "      <td>[587fe42cdcf624a7bfc74f89ce855b3734de1e9725b3e72dcbcd863925bf066e, d455bf32a3323788dc40e0bfdb5f3fc2343e43a77e1b526711ec0d8f95733e1f]</td>\n",
              "      <td>[0.8558807200306074, 0.843906991596906]</td>\n",
              "    </tr>\n",
              "  </tbody>\n",
              "</table>\n",
              "</div>\n",
              "    <div class=\"colab-df-buttons\">\n",
              "\n",
              "  <div class=\"colab-df-container\">\n",
              "    <button class=\"colab-df-convert\" onclick=\"convertToInteractive('df-f27feae2-ebc6-4e9f-b074-42ba83c5e967')\"\n",
              "            title=\"Convert this dataframe to an interactive table.\"\n",
              "            style=\"display:none;\">\n",
              "\n",
              "  <svg xmlns=\"http://www.w3.org/2000/svg\" height=\"24px\" viewBox=\"0 -960 960 960\">\n",
              "    <path d=\"M120-120v-720h720v720H120Zm60-500h600v-160H180v160Zm220 220h160v-160H400v160Zm0 220h160v-160H400v160ZM180-400h160v-160H180v160Zm440 0h160v-160H620v160ZM180-180h160v-160H180v160Zm440 0h160v-160H620v160Z\"/>\n",
              "  </svg>\n",
              "    </button>\n",
              "\n",
              "  <style>\n",
              "    .colab-df-container {\n",
              "      display:flex;\n",
              "      gap: 12px;\n",
              "    }\n",
              "\n",
              "    .colab-df-convert {\n",
              "      background-color: #E8F0FE;\n",
              "      border: none;\n",
              "      border-radius: 50%;\n",
              "      cursor: pointer;\n",
              "      display: none;\n",
              "      fill: #1967D2;\n",
              "      height: 32px;\n",
              "      padding: 0 0 0 0;\n",
              "      width: 32px;\n",
              "    }\n",
              "\n",
              "    .colab-df-convert:hover {\n",
              "      background-color: #E2EBFA;\n",
              "      box-shadow: 0px 1px 2px rgba(60, 64, 67, 0.3), 0px 1px 3px 1px rgba(60, 64, 67, 0.15);\n",
              "      fill: #174EA6;\n",
              "    }\n",
              "\n",
              "    .colab-df-buttons div {\n",
              "      margin-bottom: 4px;\n",
              "    }\n",
              "\n",
              "    [theme=dark] .colab-df-convert {\n",
              "      background-color: #3B4455;\n",
              "      fill: #D2E3FC;\n",
              "    }\n",
              "\n",
              "    [theme=dark] .colab-df-convert:hover {\n",
              "      background-color: #434B5C;\n",
              "      box-shadow: 0px 1px 3px 1px rgba(0, 0, 0, 0.15);\n",
              "      filter: drop-shadow(0px 1px 2px rgba(0, 0, 0, 0.3));\n",
              "      fill: #FFFFFF;\n",
              "    }\n",
              "  </style>\n",
              "\n",
              "    <script>\n",
              "      const buttonEl =\n",
              "        document.querySelector('#df-f27feae2-ebc6-4e9f-b074-42ba83c5e967 button.colab-df-convert');\n",
              "      buttonEl.style.display =\n",
              "        google.colab.kernel.accessAllowed ? 'block' : 'none';\n",
              "\n",
              "      async function convertToInteractive(key) {\n",
              "        const element = document.querySelector('#df-f27feae2-ebc6-4e9f-b074-42ba83c5e967');\n",
              "        const dataTable =\n",
              "          await google.colab.kernel.invokeFunction('convertToInteractive',\n",
              "                                                    [key], {});\n",
              "        if (!dataTable) return;\n",
              "\n",
              "        const docLinkHtml = 'Like what you see? Visit the ' +\n",
              "          '<a target=\"_blank\" href=https://colab.research.google.com/notebooks/data_table.ipynb>data table notebook</a>'\n",
              "          + ' to learn more about interactive tables.';\n",
              "        element.innerHTML = '';\n",
              "        dataTable['output_type'] = 'display_data';\n",
              "        await google.colab.output.renderOutput(dataTable, element);\n",
              "        const docLink = document.createElement('div');\n",
              "        docLink.innerHTML = docLinkHtml;\n",
              "        element.appendChild(docLink);\n",
              "      }\n",
              "    </script>\n",
              "  </div>\n",
              "\n",
              "\n",
              "    <div id=\"df-852d1d4b-0415-4c8f-8fc4-e378f13743e3\">\n",
              "      <button class=\"colab-df-quickchart\" onclick=\"quickchart('df-852d1d4b-0415-4c8f-8fc4-e378f13743e3')\"\n",
              "                title=\"Suggest charts\"\n",
              "                style=\"display:none;\">\n",
              "\n",
              "<svg xmlns=\"http://www.w3.org/2000/svg\" height=\"24px\"viewBox=\"0 0 24 24\"\n",
              "     width=\"24px\">\n",
              "    <g>\n",
              "        <path d=\"M19 3H5c-1.1 0-2 .9-2 2v14c0 1.1.9 2 2 2h14c1.1 0 2-.9 2-2V5c0-1.1-.9-2-2-2zM9 17H7v-7h2v7zm4 0h-2V7h2v10zm4 0h-2v-4h2v4z\"/>\n",
              "    </g>\n",
              "</svg>\n",
              "      </button>\n",
              "\n",
              "<style>\n",
              "  .colab-df-quickchart {\n",
              "      --bg-color: #E8F0FE;\n",
              "      --fill-color: #1967D2;\n",
              "      --hover-bg-color: #E2EBFA;\n",
              "      --hover-fill-color: #174EA6;\n",
              "      --disabled-fill-color: #AAA;\n",
              "      --disabled-bg-color: #DDD;\n",
              "  }\n",
              "\n",
              "  [theme=dark] .colab-df-quickchart {\n",
              "      --bg-color: #3B4455;\n",
              "      --fill-color: #D2E3FC;\n",
              "      --hover-bg-color: #434B5C;\n",
              "      --hover-fill-color: #FFFFFF;\n",
              "      --disabled-bg-color: #3B4455;\n",
              "      --disabled-fill-color: #666;\n",
              "  }\n",
              "\n",
              "  .colab-df-quickchart {\n",
              "    background-color: var(--bg-color);\n",
              "    border: none;\n",
              "    border-radius: 50%;\n",
              "    cursor: pointer;\n",
              "    display: none;\n",
              "    fill: var(--fill-color);\n",
              "    height: 32px;\n",
              "    padding: 0;\n",
              "    width: 32px;\n",
              "  }\n",
              "\n",
              "  .colab-df-quickchart:hover {\n",
              "    background-color: var(--hover-bg-color);\n",
              "    box-shadow: 0 1px 2px rgba(60, 64, 67, 0.3), 0 1px 3px 1px rgba(60, 64, 67, 0.15);\n",
              "    fill: var(--button-hover-fill-color);\n",
              "  }\n",
              "\n",
              "  .colab-df-quickchart-complete:disabled,\n",
              "  .colab-df-quickchart-complete:disabled:hover {\n",
              "    background-color: var(--disabled-bg-color);\n",
              "    fill: var(--disabled-fill-color);\n",
              "    box-shadow: none;\n",
              "  }\n",
              "\n",
              "  .colab-df-spinner {\n",
              "    border: 2px solid var(--fill-color);\n",
              "    border-color: transparent;\n",
              "    border-bottom-color: var(--fill-color);\n",
              "    animation:\n",
              "      spin 1s steps(1) infinite;\n",
              "  }\n",
              "\n",
              "  @keyframes spin {\n",
              "    0% {\n",
              "      border-color: transparent;\n",
              "      border-bottom-color: var(--fill-color);\n",
              "      border-left-color: var(--fill-color);\n",
              "    }\n",
              "    20% {\n",
              "      border-color: transparent;\n",
              "      border-left-color: var(--fill-color);\n",
              "      border-top-color: var(--fill-color);\n",
              "    }\n",
              "    30% {\n",
              "      border-color: transparent;\n",
              "      border-left-color: var(--fill-color);\n",
              "      border-top-color: var(--fill-color);\n",
              "      border-right-color: var(--fill-color);\n",
              "    }\n",
              "    40% {\n",
              "      border-color: transparent;\n",
              "      border-right-color: var(--fill-color);\n",
              "      border-top-color: var(--fill-color);\n",
              "    }\n",
              "    60% {\n",
              "      border-color: transparent;\n",
              "      border-right-color: var(--fill-color);\n",
              "    }\n",
              "    80% {\n",
              "      border-color: transparent;\n",
              "      border-right-color: var(--fill-color);\n",
              "      border-bottom-color: var(--fill-color);\n",
              "    }\n",
              "    90% {\n",
              "      border-color: transparent;\n",
              "      border-bottom-color: var(--fill-color);\n",
              "    }\n",
              "  }\n",
              "</style>\n",
              "\n",
              "      <script>\n",
              "        async function quickchart(key) {\n",
              "          const quickchartButtonEl =\n",
              "            document.querySelector('#' + key + ' button');\n",
              "          quickchartButtonEl.disabled = true;  // To prevent multiple clicks.\n",
              "          quickchartButtonEl.classList.add('colab-df-spinner');\n",
              "          try {\n",
              "            const charts = await google.colab.kernel.invokeFunction(\n",
              "                'suggestCharts', [key], {});\n",
              "          } catch (error) {\n",
              "            console.error('Error during call to suggestCharts:', error);\n",
              "          }\n",
              "          quickchartButtonEl.classList.remove('colab-df-spinner');\n",
              "          quickchartButtonEl.classList.add('colab-df-quickchart-complete');\n",
              "        }\n",
              "        (() => {\n",
              "          let quickchartButtonEl =\n",
              "            document.querySelector('#df-852d1d4b-0415-4c8f-8fc4-e378f13743e3 button');\n",
              "          quickchartButtonEl.style.display =\n",
              "            google.colab.kernel.accessAllowed ? 'block' : 'none';\n",
              "        })();\n",
              "      </script>\n",
              "    </div>\n",
              "\n",
              "  <div id=\"id_929dc033-3432-4ee2-b3cc-f8a9b1a65503\">\n",
              "    <style>\n",
              "      .colab-df-generate {\n",
              "        background-color: #E8F0FE;\n",
              "        border: none;\n",
              "        border-radius: 50%;\n",
              "        cursor: pointer;\n",
              "        display: none;\n",
              "        fill: #1967D2;\n",
              "        height: 32px;\n",
              "        padding: 0 0 0 0;\n",
              "        width: 32px;\n",
              "      }\n",
              "\n",
              "      .colab-df-generate:hover {\n",
              "        background-color: #E2EBFA;\n",
              "        box-shadow: 0px 1px 2px rgba(60, 64, 67, 0.3), 0px 1px 3px 1px rgba(60, 64, 67, 0.15);\n",
              "        fill: #174EA6;\n",
              "      }\n",
              "\n",
              "      [theme=dark] .colab-df-generate {\n",
              "        background-color: #3B4455;\n",
              "        fill: #D2E3FC;\n",
              "      }\n",
              "\n",
              "      [theme=dark] .colab-df-generate:hover {\n",
              "        background-color: #434B5C;\n",
              "        box-shadow: 0px 1px 3px 1px rgba(0, 0, 0, 0.15);\n",
              "        filter: drop-shadow(0px 1px 2px rgba(0, 0, 0, 0.3));\n",
              "        fill: #FFFFFF;\n",
              "      }\n",
              "    </style>\n",
              "    <button class=\"colab-df-generate\" onclick=\"generateWithVariable('sample_query_df')\"\n",
              "            title=\"Generate code using this dataframe.\"\n",
              "            style=\"display:none;\">\n",
              "\n",
              "  <svg xmlns=\"http://www.w3.org/2000/svg\" height=\"24px\"viewBox=\"0 0 24 24\"\n",
              "       width=\"24px\">\n",
              "    <path d=\"M7,19H8.4L18.45,9,17,7.55,7,17.6ZM5,21V16.75L18.45,3.32a2,2,0,0,1,2.83,0l1.4,1.43a1.91,1.91,0,0,1,.58,1.4,1.91,1.91,0,0,1-.58,1.4L9.25,21ZM18.45,9,17,7.55Zm-12,3A5.31,5.31,0,0,0,4.9,8.1,5.31,5.31,0,0,0,1,6.5,5.31,5.31,0,0,0,4.9,4.9,5.31,5.31,0,0,0,6.5,1,5.31,5.31,0,0,0,8.1,4.9,5.31,5.31,0,0,0,12,6.5,5.46,5.46,0,0,0,6.5,12Z\"/>\n",
              "  </svg>\n",
              "    </button>\n",
              "    <script>\n",
              "      (() => {\n",
              "      const buttonEl =\n",
              "        document.querySelector('#id_929dc033-3432-4ee2-b3cc-f8a9b1a65503 button.colab-df-generate');\n",
              "      buttonEl.style.display =\n",
              "        google.colab.kernel.accessAllowed ? 'block' : 'none';\n",
              "\n",
              "      buttonEl.onclick = () => {\n",
              "        google.colab.notebook.generateWithVariable('sample_query_df');\n",
              "      }\n",
              "      })();\n",
              "    </script>\n",
              "  </div>\n",
              "\n",
              "    </div>\n",
              "  </div>\n"
            ],
            "application/vnd.google.colaboratory.intrinsic+json": {
              "type": "dataframe",
              "variable_name": "sample_query_df",
              "summary": "{\n  \"name\": \"sample_query_df\",\n  \"rows\": 4,\n  \"fields\": [\n    {\n      \"column\": \":id.id:\",\n      \"properties\": {\n        \"dtype\": \"string\",\n        \"num_unique_values\": 4,\n        \"samples\": [\n          \"64a87ce8-cb52-4b49-b407-36daa5cf87bd\",\n          \"473dd8bf-c94e-455b-8f3e-e0cd84ebc672\",\n          \"deea6441-049d-4cea-8be0-d0fd0610f5a5\"\n        ],\n        \"semantic_type\": \"\",\n        \"description\": \"\"\n      }\n    },\n    {\n      \"column\": \":timestamp.iso_8601:\",\n      \"properties\": {\n        \"dtype\": \"object\",\n        \"num_unique_values\": 4,\n        \"samples\": [\n          \"2025-05-01T20:20:39.317035\",\n          \"2025-05-01T20:20:41.354550\",\n          \"2025-05-01T20:20:37.037957\"\n        ],\n        \"semantic_type\": \"\",\n        \"description\": \"\"\n      }\n    },\n    {\n      \"column\": \":feature.text:prompt\",\n      \"properties\": {\n        \"dtype\": \"string\",\n        \"num_unique_values\": 4,\n        \"samples\": [\n          \"Can I create monitors with an API?\",\n          \"What is the price of the Arize platform\",\n          \"How do I get an Arize API key?\"\n        ],\n        \"semantic_type\": \"\",\n        \"description\": \"\"\n      }\n    },\n    {\n      \"column\": \":feature.[float].embedding:prompt\",\n      \"properties\": {\n        \"dtype\": \"object\",\n        \"semantic_type\": \"\",\n        \"description\": \"\"\n      }\n    },\n    {\n      \"column\": \":prediction.text:response\",\n      \"properties\": {\n        \"dtype\": \"string\",\n        \"num_unique_values\": 4,\n        \"samples\": [\n          \"assistant: Yes, you can create monitors using the public-facing graphQL API provided.\",\n          \"assistant: The price of the Arize platform is not specified in the provided context information. For detailed pricing information, it is recommended to reach out to the sales team at contacts@arize.com.\",\n          \"assistant: Click the 'Get Your API Key' button on the top right of the Explorer page to generate your API key.\"\n        ],\n        \"semantic_type\": \"\",\n        \"description\": \"\"\n      }\n    },\n    {\n      \"column\": \":feature.[str].retrieved_document_ids:prompt\",\n      \"properties\": {\n        \"dtype\": \"object\",\n        \"semantic_type\": \"\",\n        \"description\": \"\"\n      }\n    },\n    {\n      \"column\": \":feature.[float].retrieved_document_scores:prompt\",\n      \"properties\": {\n        \"dtype\": \"object\",\n        \"semantic_type\": \"\",\n        \"description\": \"\"\n      }\n    }\n  ]\n}"
            }
          },
          "metadata": {},
          "execution_count": 8
        }
      ],
      "source": [
        "query_data_buffer = callback_handler.flush_query_data_buffer()\n",
        "sample_query_df = as_dataframe(query_data_buffer)\n",
        "sample_query_df"
      ]
    },
    {
      "cell_type": "markdown",
      "metadata": {
        "id": "sUz0mXNubxQy"
      },
      "source": [
        "The columns of the dataframe are:\n",
        "\n",
        "- **:id.id:**: the query ID\n",
        "- **:timestamp.iso_8601:**: the time at which the query was made\n",
        "- **:feature.text:prompt**: the query text\n",
        "- **:feature.[float].embedding:prompt**: the embedding representation of the query\n",
        "- **:prediction.text:response**: the final response presented to the user\n",
        "- **:feature.[str].retrieved_document_ids:prompt**: the list of IDs of the retrieved documents\n",
        "- **:feature.[float].retrieved_document_scores:prompt**: the lists of cosine similarities between the query and retrieved documents\n",
        "\n",
        "The column names are in OpenInference format and describe the category, data type and intent of each column."
      ]
    },
    {
      "cell_type": "markdown",
      "metadata": {
        "id": "HaWBRCZSbxQz"
      },
      "source": [
        "Running queries against a large dataset takes a long time. Download a dataframe containing query data."
      ]
    },
    {
      "cell_type": "code",
      "execution_count": null,
      "metadata": {
        "id": "1vi18DM7bxQ0"
      },
      "outputs": [],
      "source": [
        "query_df = pd.read_parquet(\n",
        "    \"http://storage.googleapis.com/arize-phoenix-assets/datasets/unstructured/llm/llama-index/arize-docs/query_data_complete3.parquet\",\n",
        ")\n",
        "query_df.head()"
      ]
    },
    {
      "cell_type": "markdown",
      "metadata": {
        "id": "Mrin0kTJbxQ2"
      },
      "source": [
        "In addition to the columns of the previous dataframe, this data has a few additional fields:\n",
        "\n",
        "- **:tag.float:user_feedback:** approval or rejection from the user (-1 means thumbs down, +1 means thumbs up)\n",
        "- **:tag.str:openai_relevance_0:** a binary classification (relevant vs. irrelevant) by GPT-4 predicting whether the first retrieved document is relevant to the query\n",
        "- **:tag.str:openai_relevance_1:** a binary classification (relevant vs. irrelevant) by GPT-4 predicting whether the second retrieved document is relevant to the query\n",
        "\n",
        "We'll go over how to compute the relevance classifications in section 6."
      ]
    },
    {
      "cell_type": "markdown",
      "metadata": {
        "id": "BRBAmZ2LbxQ2"
      },
      "source": [
        "Next load your knowledge base into a dataframe."
      ]
    },
    {
      "cell_type": "code",
      "execution_count": null,
      "metadata": {
        "id": "r1hB85EobxQ3"
      },
      "outputs": [],
      "source": [
        "def storage_context_to_dataframe(storage_context: StorageContext) -> pd.DataFrame:\n",
        "    \"\"\"Converts the storage context to a pandas dataframe.\n",
        "\n",
        "    Args:\n",
        "        storage_context (StorageContext): Storage context containing the index\n",
        "        data.\n",
        "\n",
        "    Returns:\n",
        "        pd.DataFrame: The dataframe containing the index data.\n",
        "    \"\"\"\n",
        "    document_ids = []\n",
        "    document_texts = []\n",
        "    document_embeddings = []\n",
        "    docstore = storage_context.docstore\n",
        "    vector_store = storage_context.vector_store\n",
        "    for node_id, node in docstore.docs.items():\n",
        "        document_ids.append(node.hash)  # use node hash as the document ID\n",
        "        document_texts.append(node.text)\n",
        "        document_embeddings.append(np.array(vector_store.get(node_id)))\n",
        "    return pd.DataFrame(\n",
        "        {\n",
        "            \"document_id\": document_ids,\n",
        "            \"text\": document_texts,\n",
        "            \"text_vector\": document_embeddings,\n",
        "        }\n",
        "    )\n",
        "\n",
        "\n",
        "database_df = storage_context_to_dataframe(storage_context)\n",
        "database_df = database_df.drop_duplicates(subset=[\"text\"])\n",
        "database_df.head()"
      ]
    },
    {
      "cell_type": "markdown",
      "metadata": {
        "id": "7sIGvv_qbxQ4"
      },
      "source": [
        "The columns of your dataframe are:\n",
        "\n",
        "- **document_id:** the ID of the chunked document\n",
        "- **text:** the chunked text in your knowledge base\n",
        "- **text_vector:** the embedding vector for the text, computed during the LlamaIndex build using \"text-embedding-ada-002\" from OpenAI"
      ]
    },
    {
      "cell_type": "markdown",
      "metadata": {
        "id": "IbEmKLyJbxQ5"
      },
      "source": [
        "The query and database datasets are drawn from different distributions; the queries are short questions while the database entries are several sentences to a paragraph. The embeddings from OpenAI's \"text-embedding-ada-002\" capture these differences and naturally separate the query and context embeddings into distinct regions of the embedding space. When using Phoenix, you want to \"overlay\" the query and context embedding distributions so that queries appear close to their retrieved context in the Phoenix point cloud. To achieve this, we compute a centroid for each dataset that represents an average point in the embedding distribution and center the two distributions so they overlap."
      ]
    },
    {
      "cell_type": "code",
      "execution_count": null,
      "metadata": {
        "id": "ekK72L5abxQ5"
      },
      "outputs": [],
      "source": [
        "database_centroid = database_df[\"text_vector\"].mean()\n",
        "database_df[\"text_vector\"] = database_df[\"text_vector\"].apply(lambda x: x - database_centroid)\n",
        "\n",
        "query_centroid = query_df[\":feature.[float].embedding:prompt\"].mean()\n",
        "query_df[\":feature.[float].embedding:prompt\"] = query_df[\":feature.[float].embedding:prompt\"].apply(\n",
        "    lambda x: x - query_centroid\n",
        ")"
      ]
    },
    {
      "cell_type": "markdown",
      "metadata": {
        "id": "AN5--Fb4bxQ6"
      },
      "source": [
        "## 6. Run LLM-Assisted Evaluations\n",
        "\n",
        "Cosine similarity and Euclidean distance are reasonable proxies for retrieval quality, but they don't always work perfectly. A novel idea is to use LLMs to measure retrieval quality by simply asking the LLM whether each retrieved document is relevant to the corresponding query.\n",
        "\n",
        "💭 Use OpenAI to predict whether each retrieved document is relevant or irrelevant to the query.\n",
        "\n",
        "⚠️ It's strongly recommended to use GPT-4 for evaluations if you have access."
      ]
    },
    {
      "cell_type": "code",
      "execution_count": null,
      "metadata": {
        "id": "Oq13belEbxQ7"
      },
      "outputs": [],
      "source": [
        "evals_model_name = \"gpt-3.5-turbo\"\n",
        "# evals_model_name = \"gpt-4\"  # use GPT-4 if you have access\n",
        "query_texts = sample_query_df[\":feature.text:prompt\"].tolist()\n",
        "list_of_document_id_lists = sample_query_df[\":feature.[str].retrieved_document_ids:prompt\"].tolist()\n",
        "document_id_to_text = dict(zip(database_df[\"document_id\"].to_list(), database_df[\"text\"].to_list()))\n",
        "\n",
        "first_document_texts, second_document_texts = [\n",
        "    [\n",
        "        document_id_to_text[document_ids[document_index]]\n",
        "        for document_ids in list_of_document_id_lists\n",
        "    ]\n",
        "    for document_index in [0, 1]\n",
        "]\n",
        "first_document_relevances, second_document_relevances = [\n",
        "    [\n",
        "        classify_relevance(query_text, document_text, evals_model_name)\n",
        "        for query_text, document_text in zip(query_texts, first_document_texts)\n",
        "    ]\n",
        "    for document_texts in [first_document_texts, second_document_texts]\n",
        "]\n",
        "\n",
        "\n",
        "sample_query_df = sample_query_df.assign(\n",
        "    retrieved_document_text_0=first_document_texts,\n",
        "    retrieved_document_text_1=second_document_texts,\n",
        "    relevance_0=first_document_relevances,\n",
        "    relevance_1=second_document_relevances,\n",
        ")\n",
        "sample_query_df[\n",
        "    [\n",
        "        \":feature.text:prompt\",\n",
        "        \"retrieved_document_text_0\",\n",
        "        \"retrieved_document_text_1\",\n",
        "        \"relevance_0\",\n",
        "        \"relevance_1\",\n",
        "    ]\n",
        "].rename(columns={\":feature.text:prompt\": \"query_text\"})"
      ]
    },
    {
      "cell_type": "markdown",
      "metadata": {
        "id": "KnnqnR5MbxQ7"
      },
      "source": [
        "## 7. Compute Ranking Metrics\n",
        "\n",
        "Now that you know whether each piece of retrieved context is relevant or irrelevant to the corresponding query, you can compute precision@k for k = 1, 2 for each query. This metric tells you what percentage of the retrieved context is relevant to the corresponding query.\n",
        "\n",
        "precision@k = (# of top-k retrieved documents that are relevant) / (k retrieved documents)\n",
        "\n",
        "If your precision@2 is greater than zero for a particular query, your LlamaIndex application successfully retrieved at least one relevant piece of context with which to answer the query. If the precision@k is zero for a particular query, that means that no relevant piece of context was retrieved.\n",
        "\n",
        "Compute precision@k for k = 1, 2 and view the results."
      ]
    },
    {
      "cell_type": "code",
      "execution_count": null,
      "metadata": {
        "id": "JKR0PUpWbxQ8"
      },
      "outputs": [],
      "source": [
        "first_document_relevances = [\n",
        "    {\"relevant\": True, \"irrelevant\": False}.get(rel)\n",
        "    for rel in query_df[\":tag.str:openai_relevance_0\"].tolist()\n",
        "]\n",
        "second_document_relevances = [\n",
        "    {\"relevant\": True, \"irrelevant\": False}.get(rel)\n",
        "    for rel in query_df[\":tag.str:openai_relevance_1\"].tolist()\n",
        "]\n",
        "list_of_precisions_at_k_lists = [\n",
        "    compute_precisions_at_k([rel0, rel1])\n",
        "    for rel0, rel1 in zip(first_document_relevances, second_document_relevances)\n",
        "]\n",
        "precisions_at_1, precisions_at_2 = [\n",
        "    [precisions_at_k[index] for precisions_at_k in list_of_precisions_at_k_lists]\n",
        "    for index in [0, 1]\n",
        "]\n",
        "query_df[\":tag.float:openai_precision_at_1\"] = precisions_at_1\n",
        "query_df[\":tag.float:openai_precision_at_2\"] = precisions_at_2\n",
        "query_df[\n",
        "    [\n",
        "        \":tag.str:openai_relevance_0\",\n",
        "        \":tag.str:openai_relevance_1\",\n",
        "        \":tag.float:openai_precision_at_1\",\n",
        "        \":tag.float:openai_precision_at_2\",\n",
        "    ]\n",
        "]"
      ]
    },
    {
      "cell_type": "markdown",
      "metadata": {
        "id": "pgOy1vArbxRA"
      },
      "source": [
        "## 7. Launch Phoenix"
      ]
    },
    {
      "cell_type": "markdown",
      "metadata": {
        "id": "1zreNs3EbxRA"
      },
      "source": [
        "Define your knowledge base dataset with a schema that specifies the meaning of each column (features, predictions, actuals, tags, embeddings, etc.). See the [docs](https://docs.arize.com/phoenix/) for guides on how to define your own schema and API reference on `phoenix.Schema` and `phoenix.EmbeddingColumnNames`."
      ]
    },
    {
      "cell_type": "code",
      "execution_count": null,
      "metadata": {
        "id": "sRdqjvEjbxRB"
      },
      "outputs": [],
      "source": [
        "# get a random sample of 500 documents (including retrieved documents)\n",
        "# this will be handled by by the application in a coming release\n",
        "num_sampled_point = 500\n",
        "retrieved_document_ids = set(\n",
        "    [\n",
        "        doc_id\n",
        "        for doc_ids in query_df[\":feature.[str].retrieved_document_ids:prompt\"].to_list()\n",
        "        for doc_id in doc_ids\n",
        "    ]\n",
        ")\n",
        "retrieved_document_mask = database_df[\"document_id\"].isin(retrieved_document_ids)\n",
        "num_retrieved_documents = len(retrieved_document_ids)\n",
        "num_additional_samples = num_sampled_point - num_retrieved_documents\n",
        "unretrieved_document_mask = ~retrieved_document_mask\n",
        "sampled_unretrieved_document_ids = set(\n",
        "    database_df[unretrieved_document_mask][\"document_id\"]\n",
        "    .sample(n=num_additional_samples, random_state=0)\n",
        "    .to_list()\n",
        ")\n",
        "sampled_unretrieved_document_mask = database_df[\"document_id\"].isin(\n",
        "    sampled_unretrieved_document_ids\n",
        ")\n",
        "sampled_document_mask = retrieved_document_mask | sampled_unretrieved_document_mask\n",
        "sampled_database_df = database_df[sampled_document_mask]"
      ]
    },
    {
      "cell_type": "code",
      "execution_count": null,
      "metadata": {
        "id": "PVp6JJwVbxRC"
      },
      "outputs": [],
      "source": [
        "database_schema = px.Schema(\n",
        "    prediction_id_column_name=\"document_id\",\n",
        "    prompt_column_names=px.EmbeddingColumnNames(\n",
        "        vector_column_name=\"text_vector\",\n",
        "        raw_data_column_name=\"text\",\n",
        "    ),\n",
        ")\n",
        "database_ds = px.Inferences(\n",
        "    dataframe=sampled_database_df,\n",
        "    schema=database_schema,\n",
        "    name=\"database\",\n",
        ")"
      ]
    },
    {
      "cell_type": "markdown",
      "metadata": {
        "id": "wRIii0dWbxRZ"
      },
      "source": [
        "Define your query dataset. Because the query dataframe is in OpenInference format, Phoenix is able to infer the meaning of each column without a user-defined schema by using the `phoenix.Dataset.from_open_inference` class method."
      ]
    },
    {
      "cell_type": "code",
      "execution_count": null,
      "metadata": {
        "id": "BALu4FI7bxRZ"
      },
      "outputs": [],
      "source": [
        "query_ds = px.Inferences.from_open_inference(query_df)"
      ]
    },
    {
      "cell_type": "markdown",
      "metadata": {
        "id": "K_sjF1_zbxRa"
      },
      "source": [
        "Launch Phoenix. Follow the instructions in the cell output to open the Phoenix UI."
      ]
    },
    {
      "cell_type": "code",
      "execution_count": null,
      "metadata": {
        "id": "2ncl4EKJbxRb"
      },
      "outputs": [],
      "source": [
        "(session := px.launch_app(primary=query_ds, corpus=database_ds)).view()"
      ]
    },
    {
      "cell_type": "markdown",
      "metadata": {
        "id": "9cEhSqjXbxRb"
      },
      "source": [
        "## 8. Surface Problematic Clusters and Data Points\n",
        "\n",
        "Phoenix helps you:\n",
        "\n",
        "- visualize your embeddings\n",
        "- color the resulting point cloud using evaluation metrics\n",
        "- cluster the points and surface up problematic clusters based on whatever metric you care about\n",
        "\n",
        "Follow along with the tutorial walkthrough [here](https://youtu.be/hbQYDpJayFw?t=1782), or view the video in your notebook by running the cell below. The video will show you how to investigate your query and knowledge base and identify problematic clusters of data points using Phoenix."
      ]
    },
    {
      "cell_type": "code",
      "execution_count": null,
      "metadata": {
        "id": "pCFS9lxRbxRc"
      },
      "outputs": [],
      "source": [
        "start_time_in_seconds = int(timedelta(hours=0, minutes=29, seconds=42).total_seconds())\n",
        "YouTubeVideo(\"hbQYDpJayFw\", start=start_time_in_seconds, width=560, height=315)"
      ]
    },
    {
      "cell_type": "markdown",
      "metadata": {
        "id": "INxChecabxRc"
      },
      "source": [
        "Congrats! You've identified a problematic cluster of queries. You now have tools at your disposal to investigate clusters of queries where your search and retrieval application is performing poorly based on:\n",
        "\n",
        "- query percentage\n",
        "- user feedback\n",
        "- LLM-assisted ranking metrics\n",
        "\n",
        "As an actionable next step, you should augment your knowledge base to include information about the pricing and cost of the Arize platform, since your users seem especially interested in this topic."
      ]
    }
  ],
  "metadata": {
    "language_info": {
      "name": "python"
    },
    "colab": {
      "provenance": []
    },
    "kernelspec": {
      "name": "python3",
      "display_name": "Python 3"
    }
  },
  "nbformat": 4,
  "nbformat_minor": 0
}